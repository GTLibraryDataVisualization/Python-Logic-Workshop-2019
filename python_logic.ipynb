{
  "nbformat": 4,
  "nbformat_minor": 0,
  "metadata": {
    "kernelspec": {
      "display_name": "Python 3",
      "language": "python",
      "name": "python3"
    },
    "language_info": {
      "codemirror_mode": {
        "name": "ipython",
        "version": 3
      },
      "file_extension": ".py",
      "mimetype": "text/x-python",
      "name": "python",
      "nbconvert_exporter": "python",
      "pygments_lexer": "ipython3",
      "version": "3.7.7"
    },
    "colab": {
      "name": "python_logic.ipynb",
      "provenance": [],
      "collapsed_sections": [
        "9pMz7AfNmNCU",
        "XfB5tgNRmNCU"
      ]
    }
  },
  "cells": [
    {
      "cell_type": "markdown",
      "metadata": {
        "id": "Fxhc7w_wmNCA"
      },
      "source": [
        "# Python Logic\n",
        "\n",
        "This workship will be the process behind writing a basic file parser. The goal will be to read in a file, parse the data, and write out a file with our cleaned data as a CSV file, as well as to print some statistics about our program's runtime to console.\n",
        "\n",
        "Before we get started, theres a few areas of python to discuss\n",
        "\n",
        "### Packages\n",
        "\n",
        "One of the biggest strengths of python is the number of packages that have been written for it. **Packages** are tools that other people have written that can be used in our own code.\n",
        "\n",
        "Packages are easy to install, if you're using Anaconda, most of the popular packages are already there for you to use. If you installed python from the official site, then we need to use **pip**, python's official package manager to install them accessed from the terminal. (not a python file or the python interactive prompt)"
      ]
    },
    {
      "cell_type": "code",
      "metadata": {
        "id": "bfB3bF3gmNCF"
      },
      "source": [
        "#pip install numpy"
      ],
      "execution_count": 14,
      "outputs": []
    },
    {
      "cell_type": "markdown",
      "metadata": {
        "id": "_9HShVUUmNCF"
      },
      "source": [
        "we need to tell python that we want to use specific packages in our program. Depending on how much of a packages there are a few ways to do that."
      ]
    },
    {
      "cell_type": "code",
      "metadata": {
        "id": "2gjUGLd5mNCF"
      },
      "source": [
        "from google.colab import files\n",
        "\n",
        "import numpy # so we can use numpy in our program\n",
        "\n",
        "import numpy as np # now we can refer to numpy as np \n",
        "\n",
        "from numpy import * # brings in every numpy function for us to u\n",
        "\n",
        "\n"
      ],
      "execution_count": 15,
      "outputs": []
    },
    {
      "cell_type": "markdown",
      "metadata": {
        "id": "u2lPbGQgmNCG"
      },
      "source": [
        "we can also import our own files to use as packages. by stating **import filename** without the .py as shown below. Python will only allow imports for files in the same directory.\n",
        "\n",
        "ASIDE: There is a way such that we can import at a file at a different directory by using the sys package and specifying the path. If you want to read up on this later: https://stackoverflow.com/questions/4383571/importing-files-from-different-folder"
      ]
    },
    {
      "cell_type": "code",
      "metadata": {
        "colab": {
          "resources": {
            "http://localhost:8080/nbextensions/google.colab/files.js": {
              "data": "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",
              "ok": true,
              "headers": [
                [
                  "content-type",
                  "application/javascript"
                ]
              ],
              "status": 200,
              "status_text": ""
            }
          },
          "base_uri": "https://localhost:8080/",
          "height": 72
        },
        "id": "e5GLp1WmmNCG",
        "outputId": "cd585072-35f8-4232-a718-d9fae95b691f"
      },
      "source": [
        "uploaded = files.upload()\n",
        "import main\n",
        "#This is deprecated as of python 3, from my understanding at least. "
      ],
      "execution_count": 16,
      "outputs": [
        {
          "output_type": "display_data",
          "data": {
            "text/html": [
              "\n",
              "     <input type=\"file\" id=\"files-682debcb-6435-40a9-a44b-19bacb96f4bc\" name=\"files[]\" multiple disabled\n",
              "        style=\"border:none\" />\n",
              "     <output id=\"result-682debcb-6435-40a9-a44b-19bacb96f4bc\">\n",
              "      Upload widget is only available when the cell has been executed in the\n",
              "      current browser session. Please rerun this cell to enable.\n",
              "      </output>\n",
              "      <script src=\"/nbextensions/google.colab/files.js\"></script> "
            ],
            "text/plain": [
              "<IPython.core.display.HTML object>"
            ]
          },
          "metadata": {
            "tags": []
          }
        },
        {
          "output_type": "stream",
          "text": [
            "Saving main.py to main (1).py\n"
          ],
          "name": "stdout"
        }
      ]
    },
    {
      "cell_type": "markdown",
      "metadata": {
        "id": "WOD1c037mNCH"
      },
      "source": [
        "### \\_\\_main\\_\\_\n",
        "\n",
        "Programming languages run code in whats called a \"main\" function. Python considers all code not in a function definition to be part of the main function.\n",
        "\n",
        "This means, Python runs code from first line to last line, following standard logic flow, and we need to define a function before, or above, where we first use (or call) it.\n",
        "\n",
        "So, when we import a package, python will take the line **import 'package'** and RUN the files it looks at.\n",
        "\n",
        "If its just defining funcions this is okay, but sometimes we want packages to do things IF AND ONLY IF its the file we call in terminal with the command **python hello.py**\n",
        "\n",
        "To do this we use a special variable python has called **\\_\\_name\\_\\_** (with two underscores before and after)\n",
        "If its the file we ran, the **\\_\\_name\\_\\_** variable will be **\\_\\_main\\_\\_**\n",
        "otherwise it will be the name of the imported package (eg. **\\_\\_hello\\_\\_**)\n",
        "\n",
        "This means we can write the code below (in hello.py)"
      ]
    },
    {
      "cell_type": "code",
      "metadata": {
        "id": "wtcc0iBUmNCI"
      },
      "source": [
        "\n",
        "\n",
        "\n",
        "def main():\n",
        "    ...\n",
        "\n",
        "if __name__ == \"__main__\":\n",
        "    main()"
      ],
      "execution_count": 17,
      "outputs": []
    },
    {
      "cell_type": "markdown",
      "metadata": {
        "id": "xDV55uwXmNCI"
      },
      "source": [
        "what happens here is python sees main, but because we're only defining the function it doesn't run it. If we used the terminal to call hello.py, it then sees that the **\\_\\_name\\_\\_** variable is **\\_\\_main\\_\\_** and runs the code in **main()**, if we imported it with **import hello**, the **\\_\\_main\\_\\_** variable will be **\\_\\_hello\\_\\_** and code in **main()** wont run.\n",
        "\n",
        "So lets put together some basic code that we'll need for this project"
      ]
    },
    {
      "cell_type": "code",
      "metadata": {
        "id": "c9Nnh5tkmNCI"
      },
      "source": [
        "def main():\n",
        "    return None\n",
        "    \n",
        "if __name__ == \"__main__\":\n",
        "    main()"
      ],
      "execution_count": 18,
      "outputs": []
    },
    {
      "cell_type": "markdown",
      "metadata": {
        "id": "2grSLe5pmNCI"
      },
      "source": [
        "Now that we have the skeleton of our program written, with the numpy and timer (more on that later) packages imported, we can start writing the body of our code.\n",
        "\n",
        "### Reading from files\n",
        "\n",
        "We want to get information out of files, to do that we use the **open()** function which takes in a file, and a mode (\"r\" for 'read' or \"w\" for 'write) both in the format of a string"
      ]
    },
    {
      "cell_type": "code",
      "metadata": {
        "colab": {
          "resources": {
            "http://localhost:8080/nbextensions/google.colab/files.js": {
              "data": "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",
              "ok": true,
              "headers": [
                [
                  "content-type",
                  "application/javascript"
                ]
              ],
              "status": 200,
              "status_text": ""
            }
          },
          "base_uri": "https://localhost:8080/",
          "height": 72
        },
        "id": "MvFFb5SMmNCJ",
        "outputId": "2e5d09d0-eb65-4064-f257-5fffa56f9094"
      },
      "source": [
        "uploaded = files.upload()\r\n",
        "fp = open(\"example_data.txt\",\"r\") # opens example_data.txt in read mode"
      ],
      "execution_count": 19,
      "outputs": [
        {
          "output_type": "display_data",
          "data": {
            "text/html": [
              "\n",
              "     <input type=\"file\" id=\"files-19a55579-f7e7-4e7e-89c0-5dab9099995f\" name=\"files[]\" multiple disabled\n",
              "        style=\"border:none\" />\n",
              "     <output id=\"result-19a55579-f7e7-4e7e-89c0-5dab9099995f\">\n",
              "      Upload widget is only available when the cell has been executed in the\n",
              "      current browser session. Please rerun this cell to enable.\n",
              "      </output>\n",
              "      <script src=\"/nbextensions/google.colab/files.js\"></script> "
            ],
            "text/plain": [
              "<IPython.core.display.HTML object>"
            ]
          },
          "metadata": {
            "tags": []
          }
        },
        {
          "output_type": "stream",
          "text": [
            "Saving example_data.txt to example_data (2).txt\n"
          ],
          "name": "stdout"
        }
      ]
    },
    {
      "cell_type": "markdown",
      "metadata": {
        "id": "32jyiPqOmNCJ"
      },
      "source": [
        "ASIDE: we can name variables almost anything we want following the few rules that exist. **file** already exists as a keywork in python, so we need to use something else. Popular variable names include **f** for \"file\" or **fp** for \"file-pointer\".\n",
        "\n",
        "when we are done using our file we need to call **close()**. There are a lot of problems that can occur if we don't close a file, but they're a bit too technical for our purposes. For now, just remember to call **close()** when you're done with a file.\n",
        "\n",
        "Once we have our file opened in read mode, we want to get data from our file, which we can do in a few ways:"
      ]
    },
    {
      "cell_type": "code",
      "metadata": {
        "id": "BrANGaIjmNCJ"
      },
      "source": [
        "data = fp.read() # this reads in the ENTIRE file\n",
        "# this works for our sample file, but will fill up our computers memory for really big files\n",
        "\n",
        "data = fp.read(100) # reads ONLY the first 100 characters of a file\n",
        "\n",
        "line = fp.readline() # this reads the entire file, line by line\n",
        "\n",
        "# if we know our file is short enough...\n",
        "lines = fp.readlines() # reads in ALL times, where each line is an entry in a list"
      ],
      "execution_count": 20,
      "outputs": []
    },
    {
      "cell_type": "markdown",
      "metadata": {
        "id": "i7-AZ2tvmNCJ"
      },
      "source": [
        "in a file, lines will end with an invisible newline character (**\\\\n**), **readline()** will look at one line at a time (as a string) stopping each line at a new line character.\n",
        "\n",
        "Since we're only looking at one line at a time, this reduces memory usage significantly.\n",
        "\n",
        "Let's edit our program, we'll pretend we're using a large file and need to worry about memory."
      ]
    },
    {
      "cell_type": "code",
      "metadata": {
        "colab": {
          "base_uri": "https://localhost:8080/"
        },
        "id": "GRr0uAx7mNCJ",
        "outputId": "75ad5a13-1174-402e-b8ce-d231b89021b1"
      },
      "source": [
        "def main():\n",
        "    fp = open(\"example_data.txt\", \"r\")\n",
        "    line = fp.readline()\n",
        "    print(line)\n",
        "    while line:\n",
        "        line = fp.readline()\n",
        "        print(line)\n",
        "    \n",
        "if __name__ == \"__main__\":\n",
        "    main()"
      ],
      "execution_count": 21,
      "outputs": [
        {
          "output_type": "stream",
          "text": [
            "# a python comment in a txt file!?\n",
            "\n",
            "data: not-a number, gpa: 3.2, credits: 135, semesters: 9\n",
            "\n",
            "credits:132, gpa : 3.8, semesters: 8\n",
            "\n",
            "gpa : 4.0, credits: 73, filler, semesters: 3\n",
            "\n",
            "gpa:2.9, filler, credits :56, semesters: 4\n",
            "\n",
            "credits : 90, garbage, gpa: 3.7, semesters: 7\n",
            "\n",
            "gpa:3.2, semesters: 7, credits :113,\n",
            "\n",
            "! another random character?\n",
            "\n",
            "5 + 137 = 142\n",
            "\n",
            "gpa: 3.7, credits: 15, semesters: 1\n",
            "\n",
            "and more noise\n",
            "\n",
            "　\n",
            "\n",
            "\n"
          ],
          "name": "stdout"
        }
      ]
    },
    {
      "cell_type": "markdown",
      "metadata": {
        "id": "bL3YRoTZmNCK"
      },
      "source": [
        "There's a more elegant solution using the **with** statement"
      ]
    },
    {
      "cell_type": "code",
      "metadata": {
        "colab": {
          "base_uri": "https://localhost:8080/"
        },
        "id": "p9Y4BARZmNCK",
        "outputId": "cecfacf9-5fad-4eca-d32f-c400a1998f2b"
      },
      "source": [
        "def main():\n",
        "    with open(\"example_data.txt\", \"r\") as fp:\n",
        "        for line in fp:\n",
        "            print(line)\n",
        "            \n",
        "if __name__ == \"__main__\":\n",
        "    main()"
      ],
      "execution_count": 22,
      "outputs": [
        {
          "output_type": "stream",
          "text": [
            "# a python comment in a txt file!?\n",
            "\n",
            "data: not-a number, gpa: 3.2, credits: 135, semesters: 9\n",
            "\n",
            "credits:132, gpa : 3.8, semesters: 8\n",
            "\n",
            "gpa : 4.0, credits: 73, filler, semesters: 3\n",
            "\n",
            "gpa:2.9, filler, credits :56, semesters: 4\n",
            "\n",
            "credits : 90, garbage, gpa: 3.7, semesters: 7\n",
            "\n",
            "gpa:3.2, semesters: 7, credits :113,\n",
            "\n",
            "! another random character?\n",
            "\n",
            "5 + 137 = 142\n",
            "\n",
            "gpa: 3.7, credits: 15, semesters: 1\n",
            "\n",
            "and more noise\n",
            "\n",
            "　\n",
            "\n"
          ],
          "name": "stdout"
        }
      ]
    },
    {
      "cell_type": "markdown",
      "metadata": {
        "id": "WFjzMbFhmNCK"
      },
      "source": [
        "This does the exact same thing, but is more concise, easier to read, and will automatically close the file when we leave the with statement. Its the best way to read a file."
      ]
    },
    {
      "cell_type": "markdown",
      "metadata": {
        "id": "mBTPM181mNCK"
      },
      "source": [
        "### Parsing Strings\n",
        "\n",
        "Now that we can access our file, we can start parsing it. Let's take a moment to try and understand how our data is formatted.\n",
        "\n",
        "If you look at the file example_data.txt youll notice that in general it's formatted as \"word\" : \"number\"\n",
        "\n",
        "but there's a few lines spread out that don't follow this pattern. That's junk data that we're going to need to deal with as we look at lines.\n",
        "\n",
        "*I will make a guarantee, so that we don't need to worry about it, that every valid row will have all the same words* *before colons.*\n",
        "\n",
        "There are alot of tools for us to work with, but we'll focus on just a few. If you want to read up on them, documentation is availabe: https://docs.python.org/3.7/library/stdtypes.html\n",
        "and https://docs.python.org/3.7/library/string.html\n",
        "Documentation is not something to memorize, it is used for reference.\n",
        "feel free to \"control + f\" and search for these in the documentation to learn more about them.\n",
        "\n",
        "The functions we'll be focusing on:"
      ]
    },
    {
      "cell_type": "code",
      "metadata": {
        "colab": {
          "base_uri": "https://localhost:8080/"
        },
        "id": "ufaHcHP_mNCL",
        "outputId": "acb22981-734e-4ee2-fe05-3f2120f70af9"
      },
      "source": [
        "import string\n",
        "temp = \"A Temporary STRING : STRING\"\n",
        "temp2 = \"12\"\n",
        "print(temp.lower()) # returns a copy of the string with all lowercase characters.strip() # removes all spaces (or other characters) from a string\n",
        "print(temp.split())# splits the string on the characters we ask for, returns an array\n",
        "print(string.ascii_letters) # is a string of all ascii letters\n",
        "print(temp2.isdigit()) # returns True if str is made of only numbers\n",
        "print(temp.isalpha()) # returns True if str is made of only letters"
      ],
      "execution_count": 23,
      "outputs": [
        {
          "output_type": "stream",
          "text": [
            "a temporary string : string\n",
            "['A', 'Temporary', 'STRING', ':', 'STRING']\n",
            "abcdefghijklmnopqrstuvwxyzABCDEFGHIJKLMNOPQRSTUVWXYZ\n",
            "True\n",
            "False\n"
          ],
          "name": "stdout"
        }
      ]
    },
    {
      "cell_type": "markdown",
      "metadata": {
        "id": "2eOPoNjOmNCL"
      },
      "source": [
        "ASIDE: for more complex string manipulation there are \"regular expressions\". Those are much more powerful but are extremely difficult to use. They were designed to parse natural language, how we write and speak in natural english, rather than formatted data and is thus beyond the scope of this workshop.\n",
        "\n",
        "so, lets deal with the easiest lines first:"
      ]
    },
    {
      "cell_type": "code",
      "metadata": {
        "colab": {
          "base_uri": "https://localhost:8080/"
        },
        "id": "1DJSP8X9mNCL",
        "outputId": "cbdb564f-eb6f-466d-8460-f753179aab92"
      },
      "source": [
        "if temp[0] in string.ascii_letters:\n",
        "    print(\"is a letter!\")"
      ],
      "execution_count": 24,
      "outputs": [
        {
          "output_type": "stream",
          "text": [
            "is a letter!\n"
          ],
          "name": "stdout"
        }
      ]
    },
    {
      "cell_type": "markdown",
      "metadata": {
        "id": "G2tqlMK4mNCM"
      },
      "source": [
        "**string.ascii_letters** requires the string package, so lets import that too"
      ]
    },
    {
      "cell_type": "code",
      "metadata": {
        "id": "UZcXBAVmmNCM"
      },
      "source": [
        "import string"
      ],
      "execution_count": 25,
      "outputs": []
    },
    {
      "cell_type": "markdown",
      "metadata": {
        "id": "O23yWAQQmNCM"
      },
      "source": [
        "lets make sure our line has the general formatting of what we want"
      ]
    },
    {
      "cell_type": "code",
      "metadata": {
        "id": "uXPY5EL6mNCM"
      },
      "source": [
        "#if \":\" in line:\n",
        "    #print(\"contains a ':'!\")"
      ],
      "execution_count": 26,
      "outputs": []
    },
    {
      "cell_type": "markdown",
      "metadata": {
        "id": "zOkumSymmNCM"
      },
      "source": [
        "So these statements will get rid of our junk lines. We can combine our two if statements together as well, so lets do that as we modify our code."
      ]
    },
    {
      "cell_type": "code",
      "metadata": {
        "colab": {
          "base_uri": "https://localhost:8080/"
        },
        "id": "G1bONOxxmNCM",
        "outputId": "39343dd4-469a-4552-e408-f40134879874"
      },
      "source": [
        "import string\n",
        "\n",
        "def main():\n",
        "    with open(\"example_data.txt\", \"r\") as fp:\n",
        "        for line in fp:\n",
        "            if line[0] in string.ascii_letters and ':' in line:\n",
        "                print(line)\n",
        "            \n",
        "if __name__ == \"__main__\":\n",
        "    main()"
      ],
      "execution_count": 27,
      "outputs": [
        {
          "output_type": "stream",
          "text": [
            "data: not-a number, gpa: 3.2, credits: 135, semesters: 9\n",
            "\n",
            "credits:132, gpa : 3.8, semesters: 8\n",
            "\n",
            "gpa : 4.0, credits: 73, filler, semesters: 3\n",
            "\n",
            "gpa:2.9, filler, credits :56, semesters: 4\n",
            "\n",
            "credits : 90, garbage, gpa: 3.7, semesters: 7\n",
            "\n",
            "gpa:3.2, semesters: 7, credits :113,\n",
            "\n",
            "gpa: 3.7, credits: 15, semesters: 1\n",
            "\n"
          ],
          "name": "stdout"
        }
      ]
    },
    {
      "cell_type": "markdown",
      "metadata": {
        "id": "hZLDW2zZmNCN"
      },
      "source": [
        "now, lets get rid of whitespace and seperate our string so we can get data out."
      ]
    },
    {
      "cell_type": "code",
      "metadata": {
        "id": "T8j4ILkrmNCN"
      },
      "source": [
        "line = temp.lower() # makes everything lowercase\n",
        "line = temp.strip() # removes leading and trailing whitespace\n",
        "line = temp.replace(\" \", \"\") # removes all whitespace\n",
        "line = temp.split(',') # splits the line at the ,'s into a list"
      ],
      "execution_count": 28,
      "outputs": []
    },
    {
      "cell_type": "markdown",
      "metadata": {
        "id": "8BZXmSiGmNCN"
      },
      "source": [
        "lets add this to our program, in one line."
      ]
    },
    {
      "cell_type": "code",
      "metadata": {
        "colab": {
          "base_uri": "https://localhost:8080/"
        },
        "id": "QURUbJGUmNCN",
        "outputId": "6b6d7b07-181d-4bac-f740-ebddba23da4b"
      },
      "source": [
        "import string\n",
        "\n",
        "def main():\n",
        "    with open(\"example_data.txt\", \"r\") as fp:\n",
        "        for line in fp:\n",
        "            if line[0] in string.ascii_letters and ':' in line:\n",
        "                line = line.lower().replace(\" \", \"\").split(',')\n",
        "                print(line)\n",
        "            \n",
        "if __name__ == \"__main__\":\n",
        "    main()"
      ],
      "execution_count": 29,
      "outputs": [
        {
          "output_type": "stream",
          "text": [
            "['data:not-anumber', 'gpa:3.2', 'credits:135', 'semesters:9\\n']\n",
            "['credits:132', 'gpa:3.8', 'semesters:8\\n']\n",
            "['gpa:4.0', 'credits:73', 'filler', 'semesters:3\\n']\n",
            "['gpa:2.9', 'filler', 'credits:56', 'semesters:4\\n']\n",
            "['credits:90', 'garbage', 'gpa:3.7', 'semesters:7\\n']\n",
            "['gpa:3.2', 'semesters:7', 'credits:113', '\\n']\n",
            "['gpa:3.7', 'credits:15', 'semesters:1\\n']\n"
          ],
          "name": "stdout"
        }
      ]
    },
    {
      "cell_type": "markdown",
      "metadata": {
        "id": "EZ-9_qw5mNCO"
      },
      "source": [
        "the order of these functions is executed left to right, looking at what these functions do, as long as .split(',') is at the end, this will run, as .lower() and .strip() return strings while .split() returns a list.\n",
        "\n",
        "also, because we assigned this new output to line, we can no longer get the original line back as it was in the file.\n",
        "\n",
        "Currently line is a list, so \\[entry_1, entry_2, ... , entry_n\\]\n",
        "\n",
        "\n",
        "Lets continue to parse this, we want to make sure every entry has data in the format we want \"word\" : \"number\" which means our conditions are is if : is in the entry, if the left is a word, and the right is a digit."
      ]
    },
    {
      "cell_type": "code",
      "metadata": {
        "id": "SVVs-y3vmNCO"
      },
      "source": [
        "for entry in line:\n",
        "    if \":\" in entry:\n",
        "        data = entry.split(':')\n",
        "        if data[0].isalpha() and data[1].isdigit():\n",
        "            print(data[0] + \" \" + data[1])\n"
      ],
      "execution_count": 30,
      "outputs": []
    },
    {
      "cell_type": "markdown",
      "metadata": {
        "id": "RF7IMDkEmNCO"
      },
      "source": [
        "lets add this to our program"
      ]
    },
    {
      "cell_type": "code",
      "metadata": {
        "scrolled": true,
        "colab": {
          "base_uri": "https://localhost:8080/"
        },
        "id": "XUHF9SMKmNCO",
        "outputId": "69c2b5e4-ad7e-457b-9e0a-28471aa6b706"
      },
      "source": [
        "import string\n",
        "\n",
        "def main():\n",
        "    with open(\"example_data.txt\", \"r\") as fp:\n",
        "        for line in fp:\n",
        "            if line[0] in string.ascii_letters and ':' in line:\n",
        "                line = line.lower().replace(\" \", \"\").split(',')\n",
        "                for entry in line:\n",
        "                    if \":\" in entry:\n",
        "                        data = entry.split(':')\n",
        "                        if data[0].isalpha() and data[1].isdigit():\n",
        "                            print(data[0] + \" \" + data[1])\n",
        "            \n",
        "if __name__ == \"__main__\":\n",
        "    main()"
      ],
      "execution_count": 31,
      "outputs": [
        {
          "output_type": "stream",
          "text": [
            "credits 135\n",
            "credits 132\n",
            "credits 73\n",
            "credits 56\n",
            "credits 90\n",
            "semesters 7\n",
            "credits 113\n",
            "credits 15\n"
          ],
          "name": "stdout"
        }
      ]
    },
    {
      "cell_type": "markdown",
      "metadata": {
        "id": "E0KAtrZLmNCO"
      },
      "source": [
        "But wait! this isnt working as we wanted! as it turns out **str.isdigit()** looks only for digits, so a '.' causes to to be false.\n",
        "\n",
        "we want a way to check if its a number, so what we can do is **try** to cast the value to a digit."
      ]
    },
    {
      "cell_type": "markdown",
      "metadata": {
        "id": "WSXsz8brmNCP"
      },
      "source": [
        "### try & except\n",
        "\n",
        "one method of debugging we can manipulate is the try and except conditionals. This will try to run a block of code, and if there is no error, continue as normal. If Python \"throws\" an error we can deal with it in our own block of code.\n",
        "\n",
        "We can manipulate this to do what we want."
      ]
    },
    {
      "cell_type": "code",
      "metadata": {
        "id": "CmjiwG1PmNCP"
      },
      "source": [
        "def isNum(num_string):\n",
        "    try: # we try to do the folling block of code\n",
        "        float(num_string) # cast num_string to a float\n",
        "        return True # return True\n",
        "    except ValueError: # if our code fails at any point in the try block, python will throw a ValueError\n",
        "        return False # in which case we return False"
      ],
      "execution_count": 32,
      "outputs": []
    },
    {
      "cell_type": "markdown",
      "metadata": {
        "id": "1O-dgWBxmNCP"
      },
      "source": [
        "so lets add this to our code"
      ]
    },
    {
      "cell_type": "code",
      "metadata": {
        "scrolled": true,
        "colab": {
          "base_uri": "https://localhost:8080/"
        },
        "id": "V10ANVIamNCP",
        "outputId": "ed6036f3-ae33-490b-d10d-4317ffc4f5eb"
      },
      "source": [
        "import string\n",
        "\n",
        "def isNum(num_string):\n",
        "    try:\n",
        "        float(num_string)\n",
        "        return True\n",
        "    except ValueError:\n",
        "        return False\n",
        "\n",
        "def main():\n",
        "    with open(\"example_data.txt\", \"r\") as fp:\n",
        "        for line in fp:\n",
        "            if line[0] in string.ascii_letters and ':' in line:\n",
        "                line = line.lower().replace(\" \", \"\").split(',')\n",
        "                for entry in line:\n",
        "                    if \":\" in entry:\n",
        "                        data = entry.split(':')\n",
        "                        if data[0].isalpha() and isNum(data[1]):\n",
        "                            print(data[0] + \" \" + data[1])\n",
        "            \n",
        "if __name__ == \"__main__\":\n",
        "    main()"
      ],
      "execution_count": 33,
      "outputs": [
        {
          "output_type": "stream",
          "text": [
            "gpa 3.2\n",
            "credits 135\n",
            "semesters 9\n",
            "\n",
            "credits 132\n",
            "gpa 3.8\n",
            "semesters 8\n",
            "\n",
            "gpa 4.0\n",
            "credits 73\n",
            "semesters 3\n",
            "\n",
            "gpa 2.9\n",
            "credits 56\n",
            "semesters 4\n",
            "\n",
            "credits 90\n",
            "gpa 3.7\n",
            "semesters 7\n",
            "\n",
            "gpa 3.2\n",
            "semesters 7\n",
            "credits 113\n",
            "gpa 3.7\n",
            "credits 15\n",
            "semesters 1\n",
            "\n"
          ],
          "name": "stdout"
        }
      ]
    },
    {
      "cell_type": "markdown",
      "metadata": {
        "id": "m3fe_ahDmNCP"
      },
      "source": [
        "But wait! we are checking for \":\" in two places, we don't need to do that, and there are some newlines \"\\n\" we can remove.\n",
        "\n",
        "Lets think about it, if \":\" is in our line theres no guarantee that every entry will have one, but if every entry has a \":\" that line valid line will to. So we can simplify our code and remove the redundancy. "
      ]
    },
    {
      "cell_type": "code",
      "metadata": {
        "colab": {
          "base_uri": "https://localhost:8080/"
        },
        "id": "keflBx-OmNCP",
        "outputId": "fd302010-63db-41c8-b3f3-4bd313d6d774"
      },
      "source": [
        "import string\n",
        "\n",
        "def isNum(num_string):\n",
        "    try:\n",
        "        float(num_string)\n",
        "        return True\n",
        "    except ValueError:\n",
        "        return False\n",
        "\n",
        "def main():\n",
        "    with open(\"example_data.txt\", \"r\") as fp:\n",
        "        for line in fp:\n",
        "            if line[0] in string.ascii_letters: # removed our other conditional\n",
        "                line = line.lower().replace(\" \", \"\").strip(\"\\n\").split(',') # added a strip newlines\n",
        "                for entry in line:\n",
        "                    if \":\" in entry:\n",
        "                        data = entry.split(':')\n",
        "                        if data[0].isalpha() and isNum(data[1]):\n",
        "                            print(data[0] + \" : \" + data[1])\n",
        "            \n",
        "if __name__ == \"__main__\":\n",
        "    main()"
      ],
      "execution_count": 34,
      "outputs": [
        {
          "output_type": "stream",
          "text": [
            "gpa : 3.2\n",
            "credits : 135\n",
            "semesters : 9\n",
            "credits : 132\n",
            "gpa : 3.8\n",
            "semesters : 8\n",
            "gpa : 4.0\n",
            "credits : 73\n",
            "semesters : 3\n",
            "gpa : 2.9\n",
            "credits : 56\n",
            "semesters : 4\n",
            "credits : 90\n",
            "gpa : 3.7\n",
            "semesters : 7\n",
            "gpa : 3.2\n",
            "semesters : 7\n",
            "credits : 113\n",
            "gpa : 3.7\n",
            "credits : 15\n",
            "semesters : 1\n"
          ],
          "name": "stdout"
        }
      ]
    },
    {
      "cell_type": "markdown",
      "metadata": {
        "id": "E1AKai3RmNCQ"
      },
      "source": [
        "we said we wanted to make a CSV of our data. it was presented with \":\", so the best way for us to store the data in our program is with a dictionary, data\\[0\\] is our key and data\\[1\\] is our value.\n",
        "\n",
        "we're going to need to have one for every line as well, so lets make a list to store our dictionaries."
      ]
    },
    {
      "cell_type": "code",
      "metadata": {
        "colab": {
          "base_uri": "https://localhost:8080/"
        },
        "id": "2rFoot7amNCQ",
        "outputId": "b8d235d1-aac4-48b2-cdc0-1ae76035aa48"
      },
      "source": [
        "import string\n",
        "\n",
        "def isNum(num_string):\n",
        "    try:\n",
        "        float(num_string)\n",
        "        return True\n",
        "    except ValueError:\n",
        "        return False\n",
        "\n",
        "def main():\n",
        "    data_list = list()\n",
        "    \n",
        "    with open(\"example_data.txt\", \"r\") as fp:\n",
        "        for line in fp:\n",
        "            data_dict = dict()\n",
        "            if line[0] in string.ascii_letters:\n",
        "                line = line.lower().replace(\" \", \"\").strip(\"\\n\").split(',')\n",
        "                for entry in line:\n",
        "                    if \":\" in entry:\n",
        "                        data = entry.split(':')\n",
        "                        if data[0].isalpha() and isNum(data[1]):\n",
        "                            data_dict[data[0]] = float(data[1])\n",
        "            if len(data_dict) != 0:\n",
        "                data_list.append(data_dict)\n",
        "                print(data_dict)\n",
        "            \n",
        "if __name__ == \"__main__\":\n",
        "    main()"
      ],
      "execution_count": 35,
      "outputs": [
        {
          "output_type": "stream",
          "text": [
            "{'gpa': 3.2, 'credits': 135.0, 'semesters': 9.0}\n",
            "{'credits': 132.0, 'gpa': 3.8, 'semesters': 8.0}\n",
            "{'gpa': 4.0, 'credits': 73.0, 'semesters': 3.0}\n",
            "{'gpa': 2.9, 'credits': 56.0, 'semesters': 4.0}\n",
            "{'credits': 90.0, 'gpa': 3.7, 'semesters': 7.0}\n",
            "{'gpa': 3.2, 'semesters': 7.0, 'credits': 113.0}\n",
            "{'gpa': 3.7, 'credits': 15.0, 'semesters': 1.0}\n"
          ],
          "name": "stdout"
        }
      ]
    },
    {
      "cell_type": "markdown",
      "metadata": {
        "id": "xNMi7WMEmNCQ"
      },
      "source": [
        "### Writing to Files"
      ]
    },
    {
      "cell_type": "markdown",
      "metadata": {
        "id": "uBFeJPBQmNCQ"
      },
      "source": [
        "Writing to files is similar to reading from them. First we need to open a file in write mode, so use the **open()** function, but with **\"w\"** instead of **\"r\"**.\n",
        "\n",
        "If the file we tell Python to write to doesnt exist, it will create a new file, if it does exist, it will write over the old one, deleting all data in it previously. If we don't want to clear the file and instead append to it, we can use the append mode with **\"a\"** instead."
      ]
    },
    {
      "cell_type": "code",
      "metadata": {
        "colab": {
          "resources": {
            "http://localhost:8080/nbextensions/google.colab/files.js": {
              "data": "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",
              "ok": true,
              "headers": [
                [
                  "content-type",
                  "application/javascript"
                ]
              ],
              "status": 200,
              "status_text": ""
            }
          },
          "base_uri": "https://localhost:8080/",
          "height": 72
        },
        "id": "h0or4XMzmNCQ",
        "outputId": "e7429201-114a-470e-bf8e-03eb9652f9b2"
      },
      "source": [
        "uploaded = files.upload()\r\n",
        "fp = open(\"example_parsed.csv\", \"w\")"
      ],
      "execution_count": 36,
      "outputs": [
        {
          "output_type": "display_data",
          "data": {
            "text/html": [
              "\n",
              "     <input type=\"file\" id=\"files-1ab31b3c-7945-41f5-a3d2-cd389a2c8c3b\" name=\"files[]\" multiple disabled\n",
              "        style=\"border:none\" />\n",
              "     <output id=\"result-1ab31b3c-7945-41f5-a3d2-cd389a2c8c3b\">\n",
              "      Upload widget is only available when the cell has been executed in the\n",
              "      current browser session. Please rerun this cell to enable.\n",
              "      </output>\n",
              "      <script src=\"/nbextensions/google.colab/files.js\"></script> "
            ],
            "text/plain": [
              "<IPython.core.display.HTML object>"
            ]
          },
          "metadata": {
            "tags": []
          }
        },
        {
          "output_type": "stream",
          "text": [
            "Saving example_parsed.csv to example_parsed (1).csv\n"
          ],
          "name": "stdout"
        }
      ]
    },
    {
      "cell_type": "markdown",
      "metadata": {
        "id": "r_cweijKmNCR"
      },
      "source": [
        "Lets add this to our code, but use that same **with** keyword as before\n",
        "since by this point we're done with our first open, we can use **fp** again."
      ]
    },
    {
      "cell_type": "code",
      "metadata": {
        "colab": {
          "base_uri": "https://localhost:8080/"
        },
        "id": "tHLwbJWBmNCR",
        "outputId": "86ddcbd0-dc81-4cbf-a31c-9477429f9c01"
      },
      "source": [
        "import string\n",
        "\n",
        "\n",
        "    \n",
        "def isNum(num_string):\n",
        "    try:\n",
        "        float(num_string)\n",
        "        return True\n",
        "    except ValueError:\n",
        "        return False\n",
        "    \n",
        "\n",
        "def main():\n",
        "    data_dicts = list()\n",
        "    \n",
        "    with open(\"example_data.txt\", \"r\") as fp:\n",
        "        for line in fp:\n",
        "            data_dict = dict()\n",
        "            if line[0] in string.ascii_letters:\n",
        "                line = line.lower().replace(\" \", \"\").strip(\"\\n\").split(',')\n",
        "                for entry in line:\n",
        "                    if \":\" in entry:\n",
        "                        data = entry.split(':')\n",
        "                        if data[0].isalpha() and isNum(data[1]):\n",
        "                            data_dict[data[0]] = float(data[1])\n",
        "            if len(data_dict) != 0:\n",
        "                data_dicts.append(data_dict)\n",
        "                print(data_dict)\n",
        "            \n",
        "    with open(\"example_parsed.csv\", \"w\") as fp:\n",
        "        return None\n",
        "    \n",
        "if __name__ == \"__main__\":\n",
        "    main()"
      ],
      "execution_count": 37,
      "outputs": [
        {
          "output_type": "stream",
          "text": [
            "{'gpa': 3.2, 'credits': 135.0, 'semesters': 9.0}\n",
            "{'credits': 132.0, 'gpa': 3.8, 'semesters': 8.0}\n",
            "{'gpa': 4.0, 'credits': 73.0, 'semesters': 3.0}\n",
            "{'gpa': 2.9, 'credits': 56.0, 'semesters': 4.0}\n",
            "{'credits': 90.0, 'gpa': 3.7, 'semesters': 7.0}\n",
            "{'gpa': 3.2, 'semesters': 7.0, 'credits': 113.0}\n",
            "{'gpa': 3.7, 'credits': 15.0, 'semesters': 1.0}\n"
          ],
          "name": "stdout"
        }
      ]
    },
    {
      "cell_type": "markdown",
      "metadata": {
        "id": "DzUsyuo9mNCR"
      },
      "source": [
        "we can use the **file.write()** function to write to a file. **file.write()** does not add newlines, but we can manually add them when we want with the newline character **\\n**. for example:"
      ]
    },
    {
      "cell_type": "code",
      "metadata": {
        "id": "_ggfeFNpmNCR"
      },
      "source": [
        "name_var = \"Andrew\"\n",
        "with open (\"hello.txt\", \"w\") as fp:\n",
        "    fp.write(\"hello, my name is \" + name_var)"
      ],
      "execution_count": 38,
      "outputs": []
    },
    {
      "cell_type": "markdown",
      "metadata": {
        "id": "1EEYDEVZmNCR"
      },
      "source": [
        "Lets think about what we need to do to write the data we've parsed from our file properly.\n",
        "We need to make one line for each dictionary in our list **data_dicts**. The first line should be the keys, then we need to traverse the values in the dictionary, and write them to the line, comma's seperating all of them EXCEPT the last. We also do not want a comma at the end of the line. In short we want *\"a_val, b_val, c_val, d_val, e_val, ... , n_val\"*\n",
        "\n",
        "Lets modify our program first to write the keys."
      ]
    },
    {
      "cell_type": "code",
      "metadata": {
        "colab": {
          "base_uri": "https://localhost:8080/"
        },
        "id": "COu_zb53mNCR",
        "outputId": "4da5cbb2-c485-4fd5-f9fd-139f715973f2"
      },
      "source": [
        "import string\n",
        "\n",
        "def isNum(num_string):\n",
        "    try:\n",
        "        float(num_string)\n",
        "        return True\n",
        "    except ValueError:\n",
        "        return False\n",
        "\n",
        "def main():\n",
        "    data_dicts = list()\n",
        "    \n",
        "    with open(\"example_data.txt\", \"r\") as fp:\n",
        "        for line in fp:\n",
        "            data_dict = dict()\n",
        "            if line[0] in string.ascii_letters:\n",
        "                line = line.lower().replace(\" \", \"\").strip(\"\\n\").split(',')\n",
        "                for entry in line:\n",
        "                    if \":\" in entry:\n",
        "                        data = entry.split(':')\n",
        "                        if data[0].isalpha() and isNum(data[1]):\n",
        "                            data_dict[data[0]] = float(data[1])\n",
        "            if len(data_dict) != 0:\n",
        "                data_dicts.append(data_dict)\n",
        "                print(data_dict)\n",
        "            \n",
        "    with open(\"example_parsed.csv\", \"w\") as fp:\n",
        "        for index, key in enumerate(data_dicts[0].keys()):\n",
        "            if index < len(data_dicts[0]) - 1: \n",
        "                fp.write(key + \", \")\n",
        "            else:\n",
        "                fp.write(key + \"\\n\")\n",
        "            \n",
        "if __name__ == \"__main__\":\n",
        "    main()"
      ],
      "execution_count": 39,
      "outputs": [
        {
          "output_type": "stream",
          "text": [
            "{'gpa': 3.2, 'credits': 135.0, 'semesters': 9.0}\n",
            "{'credits': 132.0, 'gpa': 3.8, 'semesters': 8.0}\n",
            "{'gpa': 4.0, 'credits': 73.0, 'semesters': 3.0}\n",
            "{'gpa': 2.9, 'credits': 56.0, 'semesters': 4.0}\n",
            "{'credits': 90.0, 'gpa': 3.7, 'semesters': 7.0}\n",
            "{'gpa': 3.2, 'semesters': 7.0, 'credits': 113.0}\n",
            "{'gpa': 3.7, 'credits': 15.0, 'semesters': 1.0}\n"
          ],
          "name": "stdout"
        }
      ]
    },
    {
      "cell_type": "markdown",
      "metadata": {
        "id": "M55j1y3-mNCS"
      },
      "source": [
        "We used the function **enumerate()** this lets us traverse a list, so that we can get TWO variables, the value of the list at our current location, and the index of the list of our current location. This is equivalent to:"
      ]
    },
    {
      "cell_type": "code",
      "metadata": {
        "id": "0MejLBPbmNCS"
      },
      "source": [
        "#for index in range(len(data_dicts[0].keys())):\n",
        "    #print(data_dicts[0].keys()[index])"
      ],
      "execution_count": null,
      "outputs": []
    },
    {
      "cell_type": "markdown",
      "metadata": {
        "id": "zQXOhDcAmNCS"
      },
      "source": [
        "using **enumerate()** is much easier to read.\n",
        "\n",
        "We added \",\" between each word and a newline character \"\\n\" at the end of the line as well. \n",
        "\n",
        "now we want to go through the values of the dictionary and print them out seperated by commas for each line, so lets do that."
      ]
    },
    {
      "cell_type": "code",
      "metadata": {
        "colab": {
          "base_uri": "https://localhost:8080/"
        },
        "id": "YFk8jqmfmNCS",
        "outputId": "632aa600-a3b8-4e3d-932b-eee2c4c43799"
      },
      "source": [
        "import string\n",
        "\n",
        "def isNum(num_string):\n",
        "    try:\n",
        "        float(num_string)\n",
        "        return True\n",
        "    except ValueError:\n",
        "        return False\n",
        "\n",
        "def main():\n",
        "    data_dicts = list()\n",
        "    \n",
        "    with open(\"example_data.txt\", \"r\") as fp:\n",
        "        for line in fp:\n",
        "            data_dict = dict()\n",
        "            if line[0] in string.ascii_letters:\n",
        "                line = line.lower().replace(\" \", \"\").strip(\"\\n\").split(',')\n",
        "                for entry in line:\n",
        "                    if \":\" in entry:\n",
        "                        data = entry.split(':')\n",
        "                        if data[0].isalpha() and isNum(data[1]):\n",
        "                            data_dict[data[0]] = float(data[1])\n",
        "            if len(data_dict) != 0:\n",
        "                data_dicts.append(data_dict)\n",
        "                print(data_dict)\n",
        "            \n",
        "    with open(\"example_parsed.csv\", \"w\") as fp:\n",
        "        for index, key in enumerate(data_dicts[0].keys()):\n",
        "            if index < len(data_dicts[0]) - 1:\n",
        "                fp.write(key + \", \")\n",
        "            else:\n",
        "                fp.write(key + \"\\n\")\n",
        "        for data_dict in data_dicts:\n",
        "            for index, value in enumerate(data_dict.values()):\n",
        "                if index < len(data_dict) - 1:\n",
        "                    fp.write(str(value) + \", \")\n",
        "                else:\n",
        "                    fp.write(str(value) + \"\\n\")\n",
        "            \n",
        "if __name__ == \"__main__\":\n",
        "    main()"
      ],
      "execution_count": 40,
      "outputs": [
        {
          "output_type": "stream",
          "text": [
            "{'gpa': 3.2, 'credits': 135.0, 'semesters': 9.0}\n",
            "{'credits': 132.0, 'gpa': 3.8, 'semesters': 8.0}\n",
            "{'gpa': 4.0, 'credits': 73.0, 'semesters': 3.0}\n",
            "{'gpa': 2.9, 'credits': 56.0, 'semesters': 4.0}\n",
            "{'credits': 90.0, 'gpa': 3.7, 'semesters': 7.0}\n",
            "{'gpa': 3.2, 'semesters': 7.0, 'credits': 113.0}\n",
            "{'gpa': 3.7, 'credits': 15.0, 'semesters': 1.0}\n"
          ],
          "name": "stdout"
        }
      ]
    },
    {
      "cell_type": "markdown",
      "metadata": {
        "id": "XGHxMKcgmNCS"
      },
      "source": [
        "This was almost the same thing as what we did to write the keys, except were looking at **dict.values()** and doing it for each dictionary in our list.\n",
        "\n",
        "But looking at our data? somethings off! Dictionaries are unordered, so python will print out the keys in the order than they were added.\n",
        "\n",
        "Well, we know what our keys are, so as long as we use the same list we can make sure its in the same order, so lets do that."
      ]
    },
    {
      "cell_type": "code",
      "metadata": {
        "colab": {
          "base_uri": "https://localhost:8080/"
        },
        "id": "ZwgsbDeGmNCS",
        "outputId": "cc762baa-ad73-4cf9-8568-63fa7def8426"
      },
      "source": [
        "import string\n",
        "\n",
        "def isNum(num_string):\n",
        "    try:\n",
        "        float(num_string)\n",
        "        return True\n",
        "    except ValueError:\n",
        "        return False\n",
        "\n",
        "def main():\n",
        "    data_dicts = list()\n",
        "    \n",
        "    with open(\"example_data.txt\", \"r\") as fp:\n",
        "        for line in fp:\n",
        "            data_dict = dict()\n",
        "            if line[0] in string.ascii_letters:\n",
        "                line = line.lower().replace(\" \", \"\").strip(\"\\n\").split(',')\n",
        "                for entry in line:\n",
        "                    if \":\" in entry:\n",
        "                        data = entry.split(':')\n",
        "                        if data[0].isalpha() and isNum(data[1]):\n",
        "                            data_dict[data[0]] = float(data[1])\n",
        "            if len(data_dict) != 0:\n",
        "                data_dicts.append(data_dict)\n",
        "                print(data_dict)\n",
        "            \n",
        "    with open(\"example_parsed.csv\", \"w\") as fp:\n",
        "        for index, key in enumerate(data_dicts[0].keys()):\n",
        "            if index < len(data_dicts[0]) - 1:\n",
        "                fp.write(key + \", \")\n",
        "            else:\n",
        "                fp.write(key + \"\\n\")\n",
        "        for data_dict in data_dicts:\n",
        "            for index, key in enumerate(data_dicts[0].keys()):\n",
        "                if index < len(data_dict) - 1:\n",
        "                    fp.write(str(data_dict[key]) + \", \")\n",
        "                else:\n",
        "                    fp.write(str(data_dict[key]) + \"\\n\")\n",
        "            \n",
        "if __name__ == \"__main__\":\n",
        "    main()"
      ],
      "execution_count": 41,
      "outputs": [
        {
          "output_type": "stream",
          "text": [
            "{'gpa': 3.2, 'credits': 135.0, 'semesters': 9.0}\n",
            "{'credits': 132.0, 'gpa': 3.8, 'semesters': 8.0}\n",
            "{'gpa': 4.0, 'credits': 73.0, 'semesters': 3.0}\n",
            "{'gpa': 2.9, 'credits': 56.0, 'semesters': 4.0}\n",
            "{'credits': 90.0, 'gpa': 3.7, 'semesters': 7.0}\n",
            "{'gpa': 3.2, 'semesters': 7.0, 'credits': 113.0}\n",
            "{'gpa': 3.7, 'credits': 15.0, 'semesters': 1.0}\n"
          ],
          "name": "stdout"
        }
      ]
    },
    {
      "cell_type": "markdown",
      "metadata": {
        "id": "7bYNCzH_mNCT"
      },
      "source": [
        "While reading like this is in fact correct, we chose to write to a csv. Because a proper CSV file has a guaranteed format for our data, it's easy to make a tool for us to read and write that we can use instead of re-writing it over and over again.\n",
        "\n",
        "Python has already done this for us, so we dont even need to write the tool, we can just use it, its in the preinstalled **csv** package."
      ]
    },
    {
      "cell_type": "code",
      "metadata": {
        "colab": {
          "base_uri": "https://localhost:8080/"
        },
        "id": "OyaIKTQ_mNCT",
        "outputId": "0c8c02bd-1a19-4741-bb07-b121a2a01976"
      },
      "source": [
        "import csv\n",
        "import string\n",
        "\n",
        "def isNum(num_string):\n",
        "    try:\n",
        "        float(num_string)\n",
        "        return True\n",
        "    except ValueError:\n",
        "        return False\n",
        "\n",
        "def main():\n",
        "    data_dicts = list()\n",
        "    \n",
        "    with open(\"example_data.txt\", \"r\") as fp:\n",
        "        for line in fp:\n",
        "            data_dict = dict()\n",
        "            if line[0] in string.ascii_letters:\n",
        "                line = line.lower().replace(\" \", \"\").strip(\"\\n\").split(',') # added a strip newlines\n",
        "                for entry in line:\n",
        "                    if \":\" in entry:\n",
        "                        data = entry.split(':')\n",
        "                        if data[0].isalpha() and isNum(data[1]):\n",
        "                            data_dict[data[0]] = float(data[1])\n",
        "            if len(data_dict) != 0:\n",
        "                data_dicts.append(data_dict)\n",
        "                print(data_dict)\n",
        "            \n",
        "    with open(\"example_parsed.csv\", \"w\") as fp:\n",
        "        writer = csv.DictWriter(fp, data_dicts[0].keys())\n",
        "        writer.writeheader()\n",
        "        writer.writerows(data_dicts)\n",
        "\n",
        "        \n",
        "if __name__ == \"__main__\":\n",
        "    main()"
      ],
      "execution_count": 42,
      "outputs": [
        {
          "output_type": "stream",
          "text": [
            "{'gpa': 3.2, 'credits': 135.0, 'semesters': 9.0}\n",
            "{'credits': 132.0, 'gpa': 3.8, 'semesters': 8.0}\n",
            "{'gpa': 4.0, 'credits': 73.0, 'semesters': 3.0}\n",
            "{'gpa': 2.9, 'credits': 56.0, 'semesters': 4.0}\n",
            "{'credits': 90.0, 'gpa': 3.7, 'semesters': 7.0}\n",
            "{'gpa': 3.2, 'semesters': 7.0, 'credits': 113.0}\n",
            "{'gpa': 3.7, 'credits': 15.0, 'semesters': 1.0}\n"
          ],
          "name": "stdout"
        }
      ]
    },
    {
      "cell_type": "markdown",
      "metadata": {
        "id": "Xz3a2oPmmNCT"
      },
      "source": [
        "Thats it! A lot of programming is wondering if a language can do this or that beforehand and doing a quick google search or search through the documentation to check and to learn how. You'll learn the full capabilities of a language by using and exploring it yourself, so practice, practice, practice! lets quickly see what these functions do here: https://docs.python.org/3.6/library/csv.html\n",
        "\n",
        "At this point theres a small problem with our code, a problem I'll leave to you to fix. If we have a massive file we're going to use a massive amount of memory since we're storing all of it in a list of dictionaries before we even begin to write.\n",
        "\n",
        "Try rewriting the above code so that it writes to the file as it reads it in.\n",
        "I've included one of my solutions in combined.py"
      ]
    },
    {
      "cell_type": "markdown",
      "metadata": {
        "id": "q3i3sf-0mNCT"
      },
      "source": [
        "### cleaning our code\n",
        "\n",
        "With the current state of our code, our **main()** function is doing alot, its reading in a file, parsing it, and writing to a file(). So lets break the parsing part into a new fuction called **parse()**. We're going to want to pass in a line (so it can exist through multiple calls), and have it return a dictionary that we can then append to our **dict_list**"
      ]
    },
    {
      "cell_type": "code",
      "metadata": {
        "colab": {
          "base_uri": "https://localhost:8080/"
        },
        "id": "wTGRNtfumNCT",
        "outputId": "8ea33080-8efd-4b49-84ee-49ff1667deba"
      },
      "source": [
        "import csv\n",
        "import string\n",
        "\n",
        "def isNum(num_string):\n",
        "    try:\n",
        "        float(num_string)\n",
        "        return True\n",
        "    except ValueError:\n",
        "        return False\n",
        "\n",
        "def parse(line): # we try to keep all functions (except main) in alphabetical order\n",
        "    return data_dict\n",
        "\n",
        "def main():\n",
        "    data_dicts = list()\n",
        "    \n",
        "    with open(\"example_data.txt\", \"r\") as fp:\n",
        "        for line in fp:\n",
        "            data_dict = dict()\n",
        "            if line[0] in string.ascii_letters:\n",
        "                line = line.lower().replace(\" \", \"\").strip(\"\\n\").split(',') # added a strip newlines\n",
        "                for entry in line:\n",
        "                    if \":\" in entry:\n",
        "                        data = entry.split(':')\n",
        "                        key = data[0]\n",
        "                        value = data[1]\n",
        "                        if key.isalpha() and isNum(value):\n",
        "                            data_dict[key] = float(value)\n",
        "            if len(data_dict) != 0:\n",
        "                data_dicts.append(data_dict)\n",
        "                print(data_dict)\n",
        "            \n",
        "    with open(\"example_parsed.csv\", \"w\") as fp:\n",
        "        writer = csv.DictWriter(fp, data_dicts[0].keys())\n",
        "        writer.writeheader()\n",
        "        writer.writerows(data_dicts)\n",
        "            \n",
        "if __name__ == \"__main__\":\n",
        "    main()"
      ],
      "execution_count": 43,
      "outputs": [
        {
          "output_type": "stream",
          "text": [
            "{'gpa': 3.2, 'credits': 135.0, 'semesters': 9.0}\n",
            "{'credits': 132.0, 'gpa': 3.8, 'semesters': 8.0}\n",
            "{'gpa': 4.0, 'credits': 73.0, 'semesters': 3.0}\n",
            "{'gpa': 2.9, 'credits': 56.0, 'semesters': 4.0}\n",
            "{'credits': 90.0, 'gpa': 3.7, 'semesters': 7.0}\n",
            "{'gpa': 3.2, 'semesters': 7.0, 'credits': 113.0}\n",
            "{'gpa': 3.7, 'credits': 15.0, 'semesters': 1.0}\n"
          ],
          "name": "stdout"
        }
      ]
    },
    {
      "cell_type": "markdown",
      "metadata": {
        "id": "MhbPCT1VmNCT"
      },
      "source": [
        "All the code to do this already exists, starting at **data_dict = dict()** and adding a return statement instead of the **data_dicts.append(data_dict)** line.\n",
        "\n",
        "A consequence of moving the code to a new function is that sometimes we'll return a None type object, so lets adjust for that too."
      ]
    },
    {
      "cell_type": "code",
      "metadata": {
        "id": "CIYSxFX8mNCT"
      },
      "source": [
        "import csv\n",
        "import string\n",
        "\n",
        "def isNum(num_string):\n",
        "    try:\n",
        "        float(num_string)\n",
        "        return True\n",
        "    except ValueError:\n",
        "        return False\n",
        "\n",
        "def parse(line):\n",
        "    data_dict = dict()\n",
        "    if line[0] in string.ascii_letters:\n",
        "        line = line.lower().replace(\" \", \"\").strip(\"\\n\").split(',')\n",
        "        for entry in line:\n",
        "            if \":\" in entry:\n",
        "                data = entry.split(':')\n",
        "                if data[0].isalpha() and isNum(data[1]):\n",
        "                    data_dict[data[0]] = float(data[1])\n",
        "    if len(data_dict) != 0:\n",
        "        return data_dict\n",
        "\n",
        "def main():\n",
        "    data_dicts = list()\n",
        "    \n",
        "    with open(\"example_data.txt\", \"r\") as fp:\n",
        "        for line in fp:\n",
        "            line = parse(line)\n",
        "            if line is not None:\n",
        "                data_dicts.append(line)\n",
        "        \n",
        "    with open(\"example_parsed.csv\", \"w\") as fp:\n",
        "        writer = csv.DictWriter(fp, data_dicts[0].keys())\n",
        "        writer.writeheader()\n",
        "        writer.writerows(data_dicts)\n",
        "\n",
        "if __name__ == \"__main__\":\n",
        "    main()"
      ],
      "execution_count": 44,
      "outputs": []
    },
    {
      "cell_type": "markdown",
      "metadata": {
        "id": "GAowt3f_mNCU"
      },
      "source": [
        "This is a bit more manageable to read. our main function reads in a file and writes out to a file.\n",
        "It also calls a parse function to parse our line. We don't need to care how the parsing works as long as what it returns is in the format we expect (a dictionary).\n",
        "\n",
        "A bonus of this is now if we want to use the same parsing function in a different program, we can just import the file and call **parse()**, and because **\\_\\_name\\_\\_** of the file won't be **\\_\\_main\\_\\_** the function **main()** wont run!"
      ]
    },
    {
      "cell_type": "markdown",
      "metadata": {
        "id": "9pMz7AfNmNCU"
      },
      "source": [
        "### Timers"
      ]
    },
    {
      "cell_type": "markdown",
      "metadata": {
        "id": "wcIEDIS_mNCU"
      },
      "source": [
        "sometimes its useful to know how long a program or function takes to run, so lets quickly put together a timer.\n",
        "\n",
        "to do this we need use the **time()** function in the time package\n",
        "\n",
        "**time()** returns the time in seconds (as a decimal) since the epoch, or 00:00 on Thursday, Janurary 1st, 1970, so we can do basic arithmetic to determine the number of seconds, minutes, hours, or days elapsed at any two points in time.\n",
        "\n",
        "ASIDE: because values in programming take up memory, they eventually hit a maximum value. Once the number of seconds from the epoch to a current moment in time occurs, various changes will have to made to Python and computers to adjust for this. That means currently, Python's time function will break sometime in 2038 (on Unix systems).\n",
        "\n",
        "so to create a basic timer:"
      ]
    },
    {
      "cell_type": "code",
      "metadata": {
        "id": "iPP7sepUmNCU"
      },
      "source": [
        "import time\n",
        "\n",
        "start = time.time()\n",
        "... # our code\n",
        "end = time.time()\n",
        "elapsed = end - start"
      ],
      "execution_count": 45,
      "outputs": []
    },
    {
      "cell_type": "markdown",
      "metadata": {
        "id": "nZV34CwPmNCU"
      },
      "source": [
        "lets add that to our program to measure the time it takes to run the code *if and only if* we run the file as where **\\_\\_name\\_\\_** is **\\_\\_main\\_\\_**"
      ]
    },
    {
      "cell_type": "code",
      "metadata": {
        "id": "uHeDeePWmNCU"
      },
      "source": [
        "import csv\n",
        "import string\n",
        "import time\n",
        "\n",
        "def isNum(num_string):\n",
        "    try:\n",
        "        float(num_string)\n",
        "        return True\n",
        "    except ValueError:\n",
        "        return False\n",
        "\n",
        "def parse(line):\n",
        "    data_dict = dict()\n",
        "    if line[0] in string.ascii_letters:\n",
        "        line = line.lower().replace(\" \", \"\").strip(\"\\n\").split(',')\n",
        "        for entry in line:\n",
        "            if \":\" in entry:\n",
        "                data = entry.split(':')\n",
        "                if data[0].isalpha() and isNum(data[1]):\n",
        "                    data_dict[data[0]] = float(data[1])\n",
        "    if len(data_dict) != 0:\n",
        "        return data_dict\n",
        "\n",
        "def main():\n",
        "    data_dicts = list()\n",
        "    \n",
        "    with open(\"example_data.txt\", \"r\") as fp:\n",
        "        for line in fp:\n",
        "            line = parse(line)\n",
        "            if line is not None:\n",
        "                data_dicts.append(line)\n",
        "\n",
        "    with open(\"example_parsed.csv\", \"w\") as fp:\n",
        "        writer = csv.DictWriter(fp, data_dicts[0].keys())\n",
        "        writer.writeheader()\n",
        "        writer.writerows(data_dicts)\n",
        "\n",
        "if __name__ == \"__main__\":\n",
        "    start = time.time()\n",
        "    main()\n",
        "    elapsed = time.time() - start"
      ],
      "execution_count": 46,
      "outputs": []
    },
    {
      "cell_type": "markdown",
      "metadata": {
        "id": "XfB5tgNRmNCU"
      },
      "source": [
        "### String Formatting\n",
        "\n",
        "lets print this out to terminal, in the format \"program ran in \\_\\_\\_\\_\\_ minutes and \\_\\_\\_\\_\\_ seconds\"\n",
        "we can do this with:"
      ]
    },
    {
      "cell_type": "code",
      "metadata": {
        "colab": {
          "base_uri": "https://localhost:8080/"
        },
        "id": "I7JEcrF2mNCU",
        "outputId": "c5a88604-587e-406b-b3c1-4430f110c1cc"
      },
      "source": [
        "elapsed_min = elapsed // 60\n",
        "elapsed_sec = elapsed % 60\n",
        "print(\"program ran in \" + str(elapsed_min) + \" minutes and \" + str(elapsed_sec) + \" seconds\")"
      ],
      "execution_count": 47,
      "outputs": [
        {
          "output_type": "stream",
          "text": [
            "program ran in 0.0 minutes and 0.0014128684997558594 seconds\n"
          ],
          "name": "stdout"
        }
      ]
    },
    {
      "cell_type": "markdown",
      "metadata": {
        "id": "xSU2HZ0JmNCV"
      },
      "source": [
        "Theres a slightly cleaner way to do this using **str.format()**\n",
        "to say the same thing:"
      ]
    },
    {
      "cell_type": "code",
      "metadata": {
        "colab": {
          "base_uri": "https://localhost:8080/"
        },
        "id": "xCItRlkGmNCV",
        "outputId": "36a1205f-997e-44e2-e64e-831682d3f723"
      },
      "source": [
        "print(\"program ran in {} minutes and {} seconds\".format(elapsed_min, elapsed_sec))"
      ],
      "execution_count": 48,
      "outputs": [
        {
          "output_type": "stream",
          "text": [
            "program ran in 0.0 minutes and 0.0014128684997558594 seconds\n"
          ],
          "name": "stdout"
        }
      ]
    },
    {
      "cell_type": "markdown",
      "metadata": {
        "id": "H6Ee5tLemNCV"
      },
      "source": [
        "this is a way to format strings in python3, its much easier to read than before. It automatically casts our values to strings as well! We can compress this further with something called *fstrings*, but for now lets focus on readability instead of brevity.\n",
        "\n",
        "the **{}** will be replaced with what we pass in to **str.format()** in the order we pass it in, so elapsed_min fills in the first **{}** and **elapsed_sec** fills in the second **{}**\n",
        "\n",
        "lets make one change such that the number of seconds gets printed to 4 decimal places."
      ]
    },
    {
      "cell_type": "code",
      "metadata": {
        "colab": {
          "base_uri": "https://localhost:8080/"
        },
        "id": "oNvDVMx8mNCV",
        "outputId": "0c693282-f899-4eff-f84e-249ce1d7be8a"
      },
      "source": [
        "print(\"program ran in {} minutes and {:.2f} seconds\".format(elapsed_min, elapsed_sec))"
      ],
      "execution_count": 49,
      "outputs": [
        {
          "output_type": "stream",
          "text": [
            "program ran in 0.0 minutes and 0.00 seconds\n"
          ],
          "name": "stdout"
        }
      ]
    },
    {
      "cell_type": "markdown",
      "metadata": {
        "id": "JWvX24z1mNCV"
      },
      "source": [
        "the .3f means \"after the decimal, round the number to three places in a floating point number format\n",
        "\n",
        "There are alot of different combinations, and the best way to learn them is googling how and to experimenting yourself. For a full list of various formatting options for strings ive included the link below\n",
        "\n",
        "https://docs.python.org/3/library/stdtypes.html#printf-style-string-formatting\n",
        "\n",
        "Lets add this to our program so it looks like:"
      ]
    },
    {
      "cell_type": "code",
      "metadata": {
        "colab": {
          "base_uri": "https://localhost:8080/"
        },
        "id": "jppMPVSAmNCV",
        "outputId": "698c454e-efb5-46e2-a88d-52c70f5ccf08"
      },
      "source": [
        "import csv\n",
        "import string\n",
        "import time\n",
        "\n",
        "def isNum(num_string):\n",
        "    try:\n",
        "        float(num_string)\n",
        "        return True\n",
        "    except ValueError:\n",
        "        return False\n",
        "\n",
        "def parse(line):\n",
        "    data_dict = dict()\n",
        "    if line[0] in string.ascii_letters:\n",
        "        line = line.lower().replace(\" \", \"\").strip(\"\\n\").split(',')\n",
        "        for entry in line:\n",
        "            if \":\" in entry:\n",
        "                data = entry.split(':')\n",
        "                if data[0].isalpha() and isNum(data[1]):\n",
        "                    data_dict[data[0]] = float(data[1])\n",
        "    if len(data_dict) != 0:\n",
        "        return data_dict\n",
        "\n",
        "def main():\n",
        "    data_dicts = list()\n",
        "    \n",
        "    with open(\"example_data.txt\", \"r\") as fp:\n",
        "        for line in fp:\n",
        "            line = parse(line)\n",
        "            if line is not None:\n",
        "                data_dicts.append(line)\n",
        "            \n",
        "    with open(\"example_parsed.csv\", \"w\") as fp:\n",
        "        writer = csv.DictWriter(fp, data_dicts[0].keys())\n",
        "        writer.writeheader()\n",
        "        writer.writerows(data_dicts)\n",
        "        \n",
        "if __name__ == \"__main__\":\n",
        "    start = time.time()\n",
        "    main()\n",
        "    elapsed = time.time() - start\n",
        "    elapsed_min = elapsed // 60 # integer division, will always guarentee a whole number, rounded DOWN\n",
        "    elapsed_sec = elapsed % 60 # modulous, will give us the remainder of elapsed / 60\n",
        "    print(\"program ran in {} minutes and {:.4f} seconds\".format(elapsed_min, elapsed_sec))"
      ],
      "execution_count": 50,
      "outputs": [
        {
          "output_type": "stream",
          "text": [
            "program ran in 0.0 minutes and 0.0009 seconds\n"
          ],
          "name": "stdout"
        }
      ]
    },
    {
      "cell_type": "markdown",
      "metadata": {
        "id": "WtarScjfmNCW"
      },
      "source": [
        "### Command Line Arguments\n",
        "\n",
        "There is one last problem with our code we should worry about fixing. Right now, the file we want to read in and the file we want to read out, are hard coded in the middle of our program, if this was a longer file, it would be hard to find, so lets put some constants at the top of our program to make this easier.\n",
        "\n",
        "Constants in python are actually just variables, but we tell the programmer that we dont want to value to change by using all capital letters."
      ]
    },
    {
      "cell_type": "code",
      "metadata": {
        "colab": {
          "base_uri": "https://localhost:8080/"
        },
        "id": "lbzun6PdmNCW",
        "outputId": "7db34ff9-42db-448e-a052-a4587a926895"
      },
      "source": [
        "import csv\n",
        "import string\n",
        "import time\n",
        "\n",
        "# Consants\n",
        "INPUT = \"example_data.txt\"\n",
        "OUTPUT = \"example_parsed.csv\"\n",
        "\n",
        "def isNum(num_string):\n",
        "    try:\n",
        "        float(num_string)\n",
        "        return True\n",
        "    except ValueError:\n",
        "        return False\n",
        "\n",
        "def parse(line):\n",
        "    data_dict = dict()\n",
        "    if line[0] in string.ascii_letters:\n",
        "        line = line.lower().replace(\" \", \"\").strip(\"\\n\").split(',')\n",
        "        for entry in line:\n",
        "            if \":\" in entry:\n",
        "                data = entry.split(':')\n",
        "                if data[0].isalpha() and isNum(data[1]):\n",
        "                    data_dict[data[0]] = float(data[1])\n",
        "    if len(data_dict) != 0:\n",
        "        return data_dict\n",
        "\n",
        "def main():\n",
        "    data_dicts = list()\n",
        "    \n",
        "    with open(INPUT, \"r\") as fp: # replace the file path with INPUT\n",
        "        for line in fp:\n",
        "            line = parse(line)\n",
        "            if line is not None:\n",
        "                data_dicts.append(line)\n",
        "\n",
        "            \n",
        "    with open(OUTPUT, \"w\") as fp: # replace the file path with OUTPUT\n",
        "        writer = csv.DictWriter(fp, data_dicts[0].keys())\n",
        "        writer.writeheader()\n",
        "        writer.writerows(data_dicts)\n",
        "            \n",
        "if __name__ == \"__main__\":\n",
        "    start = time.time()\n",
        "    main()\n",
        "    elapsed = time.time() - start\n",
        "    elapsed_min = elapsed // 60\n",
        "    elapsed_sec = elapsed % 60\n",
        "    print(\"program ran in {} minutes and {:.4f} seconds\".format(elapsed_min, elapsed_sec))"
      ],
      "execution_count": 51,
      "outputs": [
        {
          "output_type": "stream",
          "text": [
            "program ran in 0.0 minutes and 0.0012 seconds\n"
          ],
          "name": "stdout"
        }
      ]
    },
    {
      "cell_type": "markdown",
      "metadata": {
        "id": "9-0-UykFmNCW"
      },
      "source": [
        "Now its easy to change the values in our code! If we only intend to use this on the same file in the same relative location thats okay, but we still have to actually open the program to edit this should that change. We want this to be a bit more adaptable using **command line arguments**. to use them we need the *sys* module"
      ]
    },
    {
      "cell_type": "code",
      "metadata": {
        "colab": {
          "base_uri": "https://localhost:8080/"
        },
        "id": "WmnD4U_8mNCW",
        "outputId": "3d0184da-f4f8-4993-e98e-e8106ccd809e"
      },
      "source": [
        "import csv\n",
        "import string\n",
        "import sys # added sys in alphabetical order\n",
        "import time\n",
        "\n",
        "# Consants\n",
        "INPUT = \"example_data.txt\"\n",
        "OUTPUT = \"example_parsed.csv\"\n",
        "\n",
        "def isNum(num_string):\n",
        "    try:\n",
        "        float(num_string)\n",
        "        return True\n",
        "    except ValueError:\n",
        "        return False\n",
        "\n",
        "def parse(line):\n",
        "    data_dict = dict()\n",
        "    if line[0] in string.ascii_letters:\n",
        "        line = line.lower().replace(\" \", \"\").strip(\"\\n\").split(',')\n",
        "        for entry in line:\n",
        "            if \":\" in entry:\n",
        "                data = entry.split(':')\n",
        "                if data[0].isalpha() and isNum(data[1]):\n",
        "                    data_dict[data[0]] = float(data[1])\n",
        "    if len(data_dict) != 0:\n",
        "        return data_dict\n",
        "    \n",
        "def main():\n",
        "    data_dicts = list()\n",
        "    \n",
        "    with open(INPUT, \"r\") as fp:\n",
        "        for line in fp:\n",
        "            line = parse(line)\n",
        "            if line is not None:\n",
        "                data_dicts.append(line)\n",
        "\n",
        "            \n",
        "    with open(OUTPUT, \"w\") as fp:\n",
        "        writer = csv.DictWriter(fp, data_dicts[0].keys())\n",
        "        writer.writeheader()\n",
        "        writer.writerows(data_dicts)\n",
        "            \n",
        "if __name__ == \"__main__\":\n",
        "    start = time.time()\n",
        "    main()\n",
        "    elapsed = time.time() - start\n",
        "    elapsed_min = elapsed // 60\n",
        "    elapsed_sec = elapsed % 60\n",
        "    print(\"program ran in {} minutes and {:.4f} seconds\".format(elapsed_min, elapsed_sec))"
      ],
      "execution_count": 52,
      "outputs": [
        {
          "output_type": "stream",
          "text": [
            "program ran in 0.0 minutes and 0.0006 seconds\n"
          ],
          "name": "stdout"
        }
      ]
    },
    {
      "cell_type": "markdown",
      "metadata": {
        "id": "CW2As3iymNCW"
      },
      "source": [
        "Now is a good time to notice, the order I've been importing is alphabetical. There is no rule that this needs to be done so, but it makes it easier to read. in general I recommend:\n",
        "\n",
        "- import ___ and import ___ as where ___ is sorted alphabetically\n",
        "- from ___ import ___\n",
        "\n",
        "as the order to write your import statements. (readability is important!)\n",
        "\n",
        "At this point in time we can get arguments from command line, python will expect commands in the form:"
      ]
    },
    {
      "cell_type": "code",
      "metadata": {
        "id": "prznvFC3mNCW"
      },
      "source": [
        "#python program.py arg1 arg2 arg3 arg4"
      ],
      "execution_count": 54,
      "outputs": []
    },
    {
      "cell_type": "markdown",
      "metadata": {
        "id": "7TjSIANXmNCX"
      },
      "source": [
        "we can access the arguments as we would an array. note that program.py is actually the argument at index 0, so we need to say **sys.argv\\[1\\]** to get arg1\n",
        "\n",
        "in our program lets give the constants the value of arg1 for **INPUT** and arg2 for **OUTPUT**\n",
        "\n",
        "note: this code will NOT run in Jupyter due to not getting argv's"
      ]
    },
    {
      "cell_type": "code",
      "metadata": {
        "colab": {
          "base_uri": "https://localhost:8080/",
          "height": 351
        },
        "id": "9keBQI0bmNCX",
        "outputId": "a580429b-6bc9-4abb-cb8e-237c84ae3815"
      },
      "source": [
        "import csv\n",
        "import string\n",
        "import sys\n",
        "import time\n",
        "\n",
        "# Constants\n",
        "INPUT = str(sys.argv[1]) # assign the constants their values, and make them strings\n",
        "OUTPUT = str(sys.argv[2])\n",
        "\n",
        "def isNum(num_string):\n",
        "    try:\n",
        "        float(num_string)\n",
        "        return True\n",
        "    except ValueError:\n",
        "        return False\n",
        "\n",
        "def parse(line):\n",
        "    data_dict = dict()\n",
        "    if line[0] in string.ascii_letters:\n",
        "        line = line.lower().replace(\" \", \"\").strip(\"\\n\").split(',')\n",
        "        for entry in line:\n",
        "            if \":\" in entry:\n",
        "                data = entry.split(':')\n",
        "                if data[0].isalpha() and isNum(data[1]):\n",
        "                    data_dict[data[0]] = float(data[1])\n",
        "    if len(data_dict) != 0:\n",
        "        return data_dict\n",
        "\n",
        "def main():\n",
        "    data_dicts = list()\n",
        "    \n",
        "    with open(INPUT, \"r\") as fp:\n",
        "        for line in fp:\n",
        "            line = parse(line)\n",
        "            if line is not None:\n",
        "                data_dicts.append(line)\n",
        "\n",
        "            \n",
        "    with open(OUTPUT, \"w\") as fp:\n",
        "        writer = csv.DictWriter(fp, data_dicts[0].keys())\n",
        "        writer.writeheader()\n",
        "        writer.writerows(data_dicts)\n",
        "            \n",
        "if __name__ == \"__main__\":\n",
        "    start = time.time()\n",
        "    main()\n",
        "    elapsed = time.time() - start\n",
        "    elapsed_min = elapsed // 60\n",
        "    elapsed_sec = elapsed % 60\n",
        "    print(\"program ran in {} minutes and {:.3f} seconds\".format(elapsed_min, elapsed_sec))"
      ],
      "execution_count": 59,
      "outputs": [
        {
          "output_type": "error",
          "ename": "FileNotFoundError",
          "evalue": "ignored",
          "traceback": [
            "\u001b[0;31m---------------------------------------------------------------------------\u001b[0m",
            "\u001b[0;31mFileNotFoundError\u001b[0m                         Traceback (most recent call last)",
            "\u001b[0;32m<ipython-input-59-8586cfe4a4b4>\u001b[0m in \u001b[0;36m<module>\u001b[0;34m()\u001b[0m\n\u001b[1;32m     44\u001b[0m \u001b[0;32mif\u001b[0m \u001b[0m__name__\u001b[0m \u001b[0;34m==\u001b[0m \u001b[0;34m\"__main__\"\u001b[0m\u001b[0;34m:\u001b[0m\u001b[0;34m\u001b[0m\u001b[0;34m\u001b[0m\u001b[0m\n\u001b[1;32m     45\u001b[0m     \u001b[0mstart\u001b[0m \u001b[0;34m=\u001b[0m \u001b[0mtime\u001b[0m\u001b[0;34m.\u001b[0m\u001b[0mtime\u001b[0m\u001b[0;34m(\u001b[0m\u001b[0;34m)\u001b[0m\u001b[0;34m\u001b[0m\u001b[0;34m\u001b[0m\u001b[0m\n\u001b[0;32m---> 46\u001b[0;31m     \u001b[0mmain\u001b[0m\u001b[0;34m(\u001b[0m\u001b[0;34m)\u001b[0m\u001b[0;34m\u001b[0m\u001b[0;34m\u001b[0m\u001b[0m\n\u001b[0m\u001b[1;32m     47\u001b[0m     \u001b[0melapsed\u001b[0m \u001b[0;34m=\u001b[0m \u001b[0mtime\u001b[0m\u001b[0;34m.\u001b[0m\u001b[0mtime\u001b[0m\u001b[0;34m(\u001b[0m\u001b[0;34m)\u001b[0m \u001b[0;34m-\u001b[0m \u001b[0mstart\u001b[0m\u001b[0;34m\u001b[0m\u001b[0;34m\u001b[0m\u001b[0m\n\u001b[1;32m     48\u001b[0m     \u001b[0melapsed_min\u001b[0m \u001b[0;34m=\u001b[0m \u001b[0melapsed\u001b[0m \u001b[0;34m//\u001b[0m \u001b[0;36m60\u001b[0m\u001b[0;34m\u001b[0m\u001b[0;34m\u001b[0m\u001b[0m\n",
            "\u001b[0;32m<ipython-input-59-8586cfe4a4b4>\u001b[0m in \u001b[0;36mmain\u001b[0;34m()\u001b[0m\n\u001b[1;32m     30\u001b[0m     \u001b[0mdata_dicts\u001b[0m \u001b[0;34m=\u001b[0m \u001b[0mlist\u001b[0m\u001b[0;34m(\u001b[0m\u001b[0;34m)\u001b[0m\u001b[0;34m\u001b[0m\u001b[0;34m\u001b[0m\u001b[0m\n\u001b[1;32m     31\u001b[0m \u001b[0;34m\u001b[0m\u001b[0m\n\u001b[0;32m---> 32\u001b[0;31m     \u001b[0;32mwith\u001b[0m \u001b[0mopen\u001b[0m\u001b[0;34m(\u001b[0m\u001b[0mINPUT\u001b[0m\u001b[0;34m,\u001b[0m \u001b[0;34m\"r\"\u001b[0m\u001b[0;34m)\u001b[0m \u001b[0;32mas\u001b[0m \u001b[0mfp\u001b[0m\u001b[0;34m:\u001b[0m\u001b[0;34m\u001b[0m\u001b[0;34m\u001b[0m\u001b[0m\n\u001b[0m\u001b[1;32m     33\u001b[0m         \u001b[0;32mfor\u001b[0m \u001b[0mline\u001b[0m \u001b[0;32min\u001b[0m \u001b[0mfp\u001b[0m\u001b[0;34m:\u001b[0m\u001b[0;34m\u001b[0m\u001b[0;34m\u001b[0m\u001b[0m\n\u001b[1;32m     34\u001b[0m             \u001b[0mline\u001b[0m \u001b[0;34m=\u001b[0m \u001b[0mparse\u001b[0m\u001b[0;34m(\u001b[0m\u001b[0mline\u001b[0m\u001b[0;34m)\u001b[0m\u001b[0;34m\u001b[0m\u001b[0;34m\u001b[0m\u001b[0m\n",
            "\u001b[0;31mFileNotFoundError\u001b[0m: [Errno 2] No such file or directory: '-f'"
          ]
        }
      ]
    },
    {
      "cell_type": "markdown",
      "metadata": {
        "id": "1m0flqMsmNCX"
      },
      "source": [
        "Now we finally have a proper, well written program, lets run it! in the command line we navigate to the folder this file workshop_parser.py is saved in, then type."
      ]
    },
    {
      "cell_type": "code",
      "metadata": {
        "id": "aBuS3SJfmNCX"
      },
      "source": [
        "#python workshop_parser.py ../files/example_data.txt ../files/example_parsed.csv"
      ],
      "execution_count": 57,
      "outputs": []
    },
    {
      "cell_type": "markdown",
      "metadata": {
        "id": "UeOOtjhhmNCX"
      },
      "source": [
        "when its done there should be new file called exapmle_parsed.csv in the \"files\" folder, example_data.txt remained untouched, and the runtime should be printed to the console. Check to make everything is working as intended. The final version of this program is avaialbe above or in the file **workshop_parser_FINAL.py**.\n",
        "\n",
        "The first workshop covered the basics of python, this workshop worked on taking data to clean and present in a format we can easily work with for later. Now that we have data in the format we want, In the next workshop we'll be focusing on performing statistical analysis of our data and visuzalizing it with numpy and plotly."
      ]
    },
    {
      "cell_type": "code",
      "metadata": {
        "id": "Zx32TMXfmNCX"
      },
      "source": [
        ""
      ],
      "execution_count": 55,
      "outputs": []
    }
  ]
}